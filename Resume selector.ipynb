{
 "cells": [
  {
   "cell_type": "code",
   "execution_count": null,
   "metadata": {},
   "outputs": [],
   "source": [
    "# Model to check how much similar is a resume to a job description"
   ]
  },
  {
   "cell_type": "code",
   "execution_count": 1,
   "metadata": {},
   "outputs": [
    {
     "name": "stdout",
     "output_type": "stream",
     "text": [
      "Requirement already satisfied (use --upgrade to upgrade): docx2txt in c:\\users\\infiltrator_ar\\anaconda3\\lib\\site-packages\n",
      "Note: you may need to restart the kernel to use updated packages.\n"
     ]
    },
    {
     "name": "stderr",
     "output_type": "stream",
     "text": [
      "You are using pip version 8.1.1, however version 20.2.2 is available.\n",
      "You should consider upgrading via the 'python -m pip install --upgrade pip' command.\n"
     ]
    }
   ],
   "source": [
    "pip install docx2txt"
   ]
  },
  {
   "cell_type": "code",
   "execution_count": 2,
   "metadata": {},
   "outputs": [],
   "source": [
    "import docx2txt"
   ]
  },
  {
   "cell_type": "code",
   "execution_count": 6,
   "metadata": {},
   "outputs": [
    {
     "name": "stdout",
     "output_type": "stream",
     "text": [
      "We are seeking a full-time Senior Data Analyst with 5 years or more experience of doing various marketing campaigns using SAS model, strong analytical skills and keen attention to detail to develop and deliver marketing programs for retail, finance, insurance and other businesses.\n",
      "\n",
      "\n",
      "\n",
      "Must have grounding in traditional data mining/database marketing and experience in the evolving digital data marketing landscape. Bridgetree is a virtual company and the position will require to work from Kolkata/Bangalore-India office. Must be a legal Indian resident.\n",
      "\n",
      "\n",
      "\n",
      "Requirements:\n",
      "\n",
      "• Creates Marketing campaigns e.g. Mailing, e-mailing, Call lists etc.\n",
      "\n",
      "• Analyzes Data and builds various reports efficiently using different business intelligence and reporting tools\n",
      "\n",
      "• Responds to various data requests like building waterfall and customer profile reports, Mail/Email Campaign Response Analysis\n",
      "\n",
      "• Performs additional checks and implement diagnostic reporting to ensure that the final production is 100% accurate and quality assured\n",
      "\n",
      "• Recommends and implements better ways to make the process lean and efficient – set up and maintain automated data processes\n",
      "\n",
      "\n",
      "\n",
      "Qualifications:\n",
      "\n",
      "• 5+ years of working experience in a Statistical Analyst role using SAS, SQL. Knowledge of SSIS, R or Python will be added advantage.\n",
      "\n",
      "• Must have a master’s degree in Mathematics, Statistics or Economics with good educational background.\n",
      "\n",
      "• Personally, strives to ensure data quality, consistency, and accuracy in all work.\n",
      "\n",
      "• Desires to participate in a learning environment where sharing and collaboration with others is the culture.\n",
      "\n",
      "• Must have great communication and problem-solving skills\n",
      "\n",
      "\n",
      "\n",
      "To apply: Please email your resume to jobs@bridgetree.com\n"
     ]
    }
   ],
   "source": [
    "job_requirements = docx2txt.process(\"job_req.docx\")\n",
    "print(job_requirements)"
   ]
  },
  {
   "cell_type": "code",
   "execution_count": 8,
   "metadata": {},
   "outputs": [
    {
     "name": "stdout",
     "output_type": "stream",
     "text": [
      "LYANNE GIBSON\n",
      "\n",
      "115-166-7856\n",
      "\n",
      "lyanne.gibson@example.com\n",
      "\n",
      "www.example.com\n",
      "\n",
      "Paris, France\n",
      "\n",
      "ABCDEFGH\n",
      "\n",
      "Reading\n",
      "\n",
      "Data analysis\n",
      "\n",
      "Planning\n",
      "\n",
      "Family and friends\n",
      "\n",
      "Learning new technologies\n",
      "\n",
      "Research\n",
      "\n",
      "Movies\n",
      "\n",
      "Sport\n",
      "\n",
      "BSc in Mathematics and Statistics\n",
      "\n",
      "University of Altoona\n",
      "\n",
      "2006 - 2010\n",
      "\n",
      "Altoona, PA\n",
      "\n",
      "3.85 / 4.0\n",
      "\n",
      "MSc in Data Science\n",
      "\n",
      "Montclair University\n",
      "\n",
      "2010 - 2012\n",
      "\n",
      "Montclair\n",
      "\n",
      "3.55 / 4.0\n",
      "\n",
      "Data Scientist\n",
      "\n",
      "Keeling Group\n",
      "\n",
      "2015 - Ongoing\n",
      "\n",
      "Paris, France\n",
      "\n",
      "Lead a group of 5 people\n",
      "\n",
      "Database manipulation of the Financial Aid Database across 16 different countries\n",
      "\n",
      "Data Scientist\n",
      "\n",
      "Nader\n",
      "\n",
      "2013 - 2015\n",
      "\n",
      "Paris, France\n",
      "\n",
      "Consulted private and government clients\n",
      "\n",
      "Technical lead of D20 project and Glandore systems project\n",
      "\n",
      "Coordinated a team of 20 data scientists working on 6 different projects\n",
      "\n",
      "Running\n",
      "\n",
      "Traveling\n",
      "\n",
      "Sport\n",
      "\n",
      "SKILLS\n",
      "\n",
      "PythonRSQLTableauSparkJavaMachine LearningPandasHTMLHadoop\n",
      "\n",
      "English\n",
      "\n",
      "Native\n",
      "\n",
      "French\n",
      "\n",
      "Proficient\n",
      "\n",
      "Chinese\n",
      "\n",
      "Beginner\n",
      "\n",
      "Page 2\n",
      "\n",
      "Programmer\n",
      "\n",
      "Stracke\n",
      "\n",
      "2011 - 2013\n",
      "\n",
      "Altoona, PA\n",
      "\n",
      "Trained 27 students on SQL and Entity relationship diagram\n",
      "\n",
      "Data Engineer\n",
      "\n",
      "Renaud\n",
      "\n",
      "2010 - 2011\n",
      "\n",
      "Altoona, PA\n"
     ]
    }
   ],
   "source": [
    "resume = docx2txt.process(\"resume_work.docx\")\n",
    "print(resume)"
   ]
  },
  {
   "cell_type": "code",
   "execution_count": 9,
   "metadata": {},
   "outputs": [],
   "source": [
    "text = [resume, job_requirements]"
   ]
  },
  {
   "cell_type": "code",
   "execution_count": 10,
   "metadata": {},
   "outputs": [],
   "source": [
    "from sklearn.feature_extraction.text import CountVectorizer\n",
    "cv=CountVectorizer()\n",
    "count_matrix = cv.fit_transform(text)"
   ]
  },
  {
   "cell_type": "code",
   "execution_count": 11,
   "metadata": {},
   "outputs": [
    {
     "name": "stdout",
     "output_type": "stream",
     "text": [
      "\n",
      "Similarity Scores:\n",
      "[[1.        0.3605283]\n",
      " [0.3605283 1.       ]]\n"
     ]
    }
   ],
   "source": [
    "from sklearn.metrics.pairwise import cosine_similarity\n",
    "print(\"\\nSimilarity Scores:\")\n",
    "print(cosine_similarity(count_matrix))"
   ]
  },
  {
   "cell_type": "code",
   "execution_count": 12,
   "metadata": {},
   "outputs": [
    {
     "name": "stdout",
     "output_type": "stream",
     "text": [
      "This resume is about 36.05% similar to the job requirements\n"
     ]
    }
   ],
   "source": [
    "matchpercent = cosine_similarity(count_matrix)[0][1]*100\n",
    "matchpercent = round(matchpercent, 2)\n",
    "print(\"This resume is about \"+ str(matchpercent)+ \"% similar to the job requirements\")"
   ]
  },
  {
   "cell_type": "code",
   "execution_count": null,
   "metadata": {},
   "outputs": [],
   "source": []
  }
 ],
 "metadata": {
  "kernelspec": {
   "display_name": "Python 3",
   "language": "python",
   "name": "python3"
  },
  "language_info": {
   "codemirror_mode": {
    "name": "ipython",
    "version": 3
   },
   "file_extension": ".py",
   "mimetype": "text/x-python",
   "name": "python",
   "nbconvert_exporter": "python",
   "pygments_lexer": "ipython3",
   "version": "3.7.4"
  }
 },
 "nbformat": 4,
 "nbformat_minor": 2
}
